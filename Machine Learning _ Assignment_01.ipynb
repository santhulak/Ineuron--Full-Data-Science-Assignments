{
 "cells": [
  {
   "cell_type": "markdown",
   "id": "ea3fd0b5",
   "metadata": {},
   "source": [
    "1. What does one mean by the term \"machine learning\"?\n",
    "\n",
    " Machine Learning is the branch of Artificial Intelligence that gives the machines the ability  to automatically learn from data and predict outcomes more accurately with minimum human intervention."
   ]
  },
  {
   "cell_type": "markdown",
   "id": "edbbef12",
   "metadata": {},
   "source": [
    "2. Can you think of 4 distinct types of issues where it shines?\n",
    "\n",
    "Machine learning is great for problems whose solution requires a great deal of work or along list of rules, complex problems that are hard to get a solution using traditional method, fluctuating environments and getting insights about complex problems and large data.\n"
   ]
  },
  {
   "cell_type": "markdown",
   "id": "de949284",
   "metadata": {},
   "source": [
    "3. What is a labeled training set, and how does it work?\n",
    "\n",
    "Labeled is used in Supervised Learning algorithm. Labeled training set is used to train the model. This trained model is used on the test set to predict the response variable which is already known.\n"
   ]
  },
  {
   "cell_type": "markdown",
   "id": "4d75dc77",
   "metadata": {},
   "source": [
    "4. What are the two most important tasks that are supervised?\n",
    "\n",
    "The two most important supervised tasks are Regression and classification.\n"
   ]
  },
  {
   "cell_type": "markdown",
   "id": "fa05637d",
   "metadata": {},
   "source": [
    "5.Can you think of four examples of unsupervised tasks?\n",
    "\n",
    "Four examples of unsupervised tasks are Clustering, Visualization, Dimensionality Reduction and Association Rule Learning.\n"
   ]
  },
  {
   "cell_type": "markdown",
   "id": "aee2199a",
   "metadata": {},
   "source": [
    "6. State the machine learning model that would be best to make a robot walk through various unfamiliar terrains?\n",
    "\n",
    "The best machine learning model to make a robot walk through various unfamiliar terrains is Reinforcement Learning.\n"
   ]
  },
  {
   "cell_type": "markdown",
   "id": "00e85980",
   "metadata": {},
   "source": [
    "7.Which algorithm will you use to divide your customers into different groups?\n",
    "\n",
    "K-means clustering is the best algorithm for customer segmentation. Clustering algorithm is the process of classifying the customers into the same segment.\n"
   ]
  },
  {
   "cell_type": "markdown",
   "id": "619ba027",
   "metadata": {},
   "source": [
    "8.Will you consider the problem of spam detection to be a supervised or unsupervised learning problem?\n",
    "\n",
    "Spam detection is a supervised learning which predicts Spam or not a Spam.\n"
   ]
  },
  {
   "cell_type": "markdown",
   "id": "2569107c",
   "metadata": {},
   "source": [
    "9.What is the concept of an online learning system?\n",
    "\n",
    "Online machine learning is a method of machine learning in which data becomes available in a sequential order. It is used to update the best predictor for future data at each step.\n"
   ]
  },
  {
   "cell_type": "markdown",
   "id": "6af95842",
   "metadata": {},
   "source": [
    "10.What is out-of-core learning, and how does it differ from core learning?\n",
    "\n",
    "out-of-core learning is a machine learning algorithm working with data that cannot fit into a single machine’s memory, but it can fit in single data storage(eg.Local hard disk, web repository) . It uses online learning system to feed in the data in small bits.\n"
   ]
  },
  {
   "cell_type": "markdown",
   "id": "5dd9dbe2",
   "metadata": {},
   "source": [
    "11.What kind of learning algorithm makes predictions using a similarity measure?\n",
    "\n",
    "Instance based algorithms is a kind of algorithm that makes predictions using similarity measure.\n"
   ]
  },
  {
   "cell_type": "markdown",
   "id": "41c03f14",
   "metadata": {},
   "source": [
    "12.What's the difference between a model parameter and a hyperparameter in a learning algorithm?\n",
    "\n",
    "Model Parameters are internal to the model and estimated from the data automatically. These are fitted parameters\n",
    "\n",
    "Hyperparameters are set manually and are used in optimization of the model and helps in estimating the model parameters. \n",
    "\n",
    "These are adjustable parameters.\n"
   ]
  },
  {
   "cell_type": "markdown",
   "id": "eae7ba13",
   "metadata": {},
   "source": [
    "13.What are the criteria that model-based learning algorithms look for? What is the most popular method they use to achieve success? What method do they use to make predictions?\n",
    "\n",
    "Model-based learning algorithms search for optimal values of the parameters in the model that gives best results for the new instances.\n",
    "Cost Function is used to determine what the parameter value has to be to minimise the function.\n",
    "The model  makes predictions using the new values of new instances and parameters in its functions.\n"
   ]
  },
  {
   "cell_type": "markdown",
   "id": "d0480a55",
   "metadata": {},
   "source": [
    "14.Can you name four of the most important Machine Learning challenges?\n",
    "\n",
    "Overfitting and Under fitting, Poor Quality of Data, Lack of Training Data, and Customer Segmentation are the most important Machine Learning challenges.\n",
    "\n"
   ]
  },
  {
   "cell_type": "markdown",
   "id": "4c2e2a84",
   "metadata": {},
   "source": [
    "15.What happens if the model performs well on the training data but fails to generalize the results to new situations? Can you think of three different options?\n",
    "\n",
    "Overfit on the training data is the cause of the poor performance in new instances.\n",
    "To solve this problem: Add more training data, implement simple models, eliminate noise, outliers from the existing data set.\n"
   ]
  },
  {
   "cell_type": "markdown",
   "id": "9f10f819",
   "metadata": {},
   "source": [
    "16.What exactly is a test set, and why would you need one?\n",
    "\n",
    "Test set is used to test your machine learning  model to see how it performs. We need test set to see how good or bad the model performs.\n"
   ]
  },
  {
   "cell_type": "markdown",
   "id": "0b52f3f9",
   "metadata": {},
   "source": [
    "17.What is a validation set's purpose?\n",
    "\n",
    "validation set is a set of data separate from training set which is used to validate the model performance during training. Validation sets are also known as dev sets. Validation set is used for hyperparameter tuning. \n"
   ]
  },
  {
   "cell_type": "markdown",
   "id": "97d33abc",
   "metadata": {},
   "source": [
    "18.What precisely is the train-dev kit, when will you need it, how do you put it to use?\n",
    "\n",
    "Train-Dev kit data is the random samples taken from the Training set. Train-dev kit comes from the same distribution as training set but not used for training.\n",
    "\n",
    "When the training and dev- test set doesn’t come from the same distribution.\n",
    "\n",
    "Split some random samples of data from training and name it as Train-Dev set.\n"
   ]
  },
  {
   "cell_type": "markdown",
   "id": "9557315f",
   "metadata": {},
   "source": [
    "19.What could go wrong if you use the test set to tune hyperparameters?\n",
    "\n",
    "If you tune hyperparameters using the test sets, it may not perform well on the out of sample data because the model is tuned just for that specific set.\n"
   ]
  },
  {
   "cell_type": "markdown",
   "id": "f671a4ba",
   "metadata": {},
   "source": [
    "-------------------------------------------------------------------"
   ]
  },
  {
   "cell_type": "code",
   "execution_count": null,
   "id": "1c8376a1",
   "metadata": {},
   "outputs": [],
   "source": []
  }
 ],
 "metadata": {
  "kernelspec": {
   "display_name": "Python 3 (ipykernel)",
   "language": "python",
   "name": "python3"
  },
  "language_info": {
   "codemirror_mode": {
    "name": "ipython",
    "version": 3
   },
   "file_extension": ".py",
   "mimetype": "text/x-python",
   "name": "python",
   "nbconvert_exporter": "python",
   "pygments_lexer": "ipython3",
   "version": "3.10.8"
  }
 },
 "nbformat": 4,
 "nbformat_minor": 5
}

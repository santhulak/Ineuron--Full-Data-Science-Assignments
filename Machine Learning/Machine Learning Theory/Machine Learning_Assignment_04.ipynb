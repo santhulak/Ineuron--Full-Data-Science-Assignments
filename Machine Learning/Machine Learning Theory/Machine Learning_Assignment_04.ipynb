{
 "cells": [
  {
   "cell_type": "markdown",
   "id": "f2ebb17e",
   "metadata": {},
   "source": [
    "1. What are the key tasks involved in getting ready to work with machine learning modeling?\n",
    "\n",
    "\n"
   ]
  },
  {
   "cell_type": "markdown",
   "id": "b56b34ab",
   "metadata": {},
   "source": [
    "- Collecting the Data.\n",
    "- Data Preparation.\n",
    "- Choosing the right Model.\n",
    "- Training the Model. \n",
    "- Evaluating the Model. \n",
    "- Parameter Tuning.\n",
    "- Make Predictions."
   ]
  },
  {
   "cell_type": "markdown",
   "id": "4232e569",
   "metadata": {},
   "source": [
    "2. What are the different forms of data used in machine learning? Give a specific example for each of them.\n"
   ]
  },
  {
   "cell_type": "markdown",
   "id": "cf07d2ab",
   "metadata": {},
   "source": [
    "Four forms of data used in machine learning are numerical data, categorical data, time series data, and text data.\n",
    "\n",
    "Numerical data can be characterized by continuous or discrete data. For Example student Age comes under discrete data and Student average score of marks comes under continous data\n",
    "\n",
    "Categorical data represents characteristics, such as a hockey player’s position, team, hometown.\n",
    "\n",
    "Time series data is a sequence of numbers collected at regular intervals over some period of time. For example, we might measure the average number of home sales for many years.\n",
    "\n",
    "Text data is basically just words.\n",
    "\n",
    "There is also something called ordinal data, which in some sense is a mix of numerical and categorical data. \n",
    "\n"
   ]
  },
  {
   "cell_type": "markdown",
   "id": "9de75568",
   "metadata": {},
   "source": [
    "3. Distinguish:\n",
    "\n",
    "           \n",
    "\n"
   ]
  },
  {
   "cell_type": "markdown",
   "id": "96b6109d",
   "metadata": {},
   "source": [
    "1. Numeric vs. categorical attributes\n",
    "           \n",
    "Categorical data is a type of data that is used to group information with similar characteristics, while numerical data is a type of data that expresses information in the form of numbers\n",
    "\n",
    "2. Feature selection vs. dimensionality reduction\n",
    "\n",
    "Feature selection yields a subset of features from the original set of features, which are best representatives of the data.\n",
    "\n",
    "Dimension reduction is the process of reducing the number of random variables under consideration, and can be divided into feature selection and feature extraction."
   ]
  },
  {
   "cell_type": "markdown",
   "id": "120e3a0a",
   "metadata": {},
   "source": [
    "4. Make quick notes on any two of the following:\n",
    "\n",
    "            \n",
    "\n"
   ]
  },
  {
   "cell_type": "markdown",
   "id": "aed046d9",
   "metadata": {},
   "source": [
    "1. The histogram\n",
    "\n",
    "A histogram is a graph used to represent the frequency distribution of a few data points of one variable. Histograms often classify data into various “bins” or “range groups” and count how many data points belong to each of those bins.\n",
    "\n",
    "2. Use a scatter plot\n",
    "\n",
    "Scatter plots are used to plot data points on a horizontal and a vertical axis in the attempt to show how much one variable is affected by another.\n",
    "\n",
    "3.PCA (Personal Computer Aid)\n",
    "\n",
    "Principal component analysis, or PCA, is a dimensionality-reduction method that is often used to reduce the dimensionality of large data sets, by transforming a large set of variables into a smaller one that still contains most of the information in the large set."
   ]
  },
  {
   "cell_type": "markdown",
   "id": "2708abf9",
   "metadata": {},
   "source": [
    "5. Why is it necessary to investigate data? Is there a discrepancy in how qualitative and quantitative data are explored?\n",
    "\n"
   ]
  },
  {
   "cell_type": "markdown",
   "id": "09e6a2c5",
   "metadata": {},
   "source": [
    "Investigate data helps to build accurate models and check assumptions required for fitting models.It is useful to Create meaningful data visualizations, predict future trends from the data.\n",
    "\n",
    "Quantitative research methods are measuring and counting. Quantitative data is analyzed using statistical analysis. \n",
    "\n",
    "Qualitative research methods are interviewing and observing. Qualitative data is analyzed by grouping the data into categories and themes."
   ]
  },
  {
   "cell_type": "markdown",
   "id": "e4a02d50",
   "metadata": {},
   "source": [
    "6. What are the various histogram shapes? What exactly are ‘bins'?"
   ]
  },
  {
   "cell_type": "markdown",
   "id": "f7bcb24e",
   "metadata": {},
   "source": [
    "Histogram Shapes: \n",
    "\n",
    "- Skewed Distribution\n",
    "- Double-Peaked or Bimodal\n",
    "- Plateau or Multimodal Distribution\n",
    "- Edge Peak Distribution\n",
    "- Comb Distribution\n",
    "- Truncated or Heart-Cut Distribution\n",
    "- Dog Food Distribution\n",
    "\n",
    "A histogram displays numerical data by grouping data into \"bins\" of equal width. Each bin is plotted as a bar whose height corresponds to how many data points are in that bin."
   ]
  },
  {
   "cell_type": "markdown",
   "id": "98776682",
   "metadata": {},
   "source": [
    "7. How do we deal with data outliers?"
   ]
  },
  {
   "cell_type": "markdown",
   "id": "b69547e6",
   "metadata": {},
   "source": [
    " Data Outliers can follow different approaches such as replacing the outlier with the mean value, or median value or in some cases dropping the observation with the suspected outlier so as to avoid any bias in them. \n",
    " \n",
    "There are also different methods for dealing with outliers: the univariate method, the multivariate method and the Minkowski error."
   ]
  },
  {
   "cell_type": "markdown",
   "id": "2a7d76ac",
   "metadata": {},
   "source": [
    "8. What are the various central inclination measures? Why does mean vary too much from median in certain data sets?"
   ]
  },
  {
   "cell_type": "markdown",
   "id": "c9ef9dc6",
   "metadata": {},
   "source": [
    "central inclination measures are Mean, Mode and Median. \n",
    "\n",
    "A mean is computed by adding up all the values and dividing that score by the number of values.\n",
    "\n",
    "The Median is the number found at the exact middle of the set of values. A median can be computed by listing all numbers in ascending order and then locating the number in the center of that distribution."
   ]
  },
  {
   "cell_type": "markdown",
   "id": "e33e8a5e",
   "metadata": {},
   "source": [
    "9. Describe how a scatter plot can be used to investigate bivariate relationships. Is it possible to find outliers using a scatter plot?\n",
    "\n"
   ]
  },
  {
   "cell_type": "markdown",
   "id": "bbd7df62",
   "metadata": {},
   "source": [
    "A scatterplot shows the relationship between two quantitative variables measured for the same individuals. The values of one variable appear on the horizontal axis, and the values of the other variable appear on the vertical axis. Each individual in the data appears as a point on the graph.\n",
    "\n",
    "A scatter plot is useful to find outliers in bivariate data (data with two variables). You can easily spot the outliers because they will be far away from the majority of points on the scatter plot."
   ]
  },
  {
   "cell_type": "markdown",
   "id": "ced46bc2",
   "metadata": {},
   "source": [
    "10. Describe how cross-tabs can be used to figure out how two variables are related."
   ]
  },
  {
   "cell_type": "markdown",
   "id": "37d358bc",
   "metadata": {},
   "source": [
    "To describe the relationship between two categorical variables, we use a special type of table called a cross-tabulation or Cross Tab. cross tabulation allows for the identification of patterns, trends, and probabilities within data sets. "
   ]
  },
  {
   "cell_type": "code",
   "execution_count": null,
   "id": "02d8da43",
   "metadata": {},
   "outputs": [],
   "source": []
  }
 ],
 "metadata": {
  "kernelspec": {
   "display_name": "Python 3 (ipykernel)",
   "language": "python",
   "name": "python3"
  },
  "language_info": {
   "codemirror_mode": {
    "name": "ipython",
    "version": 3
   },
   "file_extension": ".py",
   "mimetype": "text/x-python",
   "name": "python",
   "nbconvert_exporter": "python",
   "pygments_lexer": "ipython3",
   "version": "3.10.8"
  }
 },
 "nbformat": 4,
 "nbformat_minor": 5
}

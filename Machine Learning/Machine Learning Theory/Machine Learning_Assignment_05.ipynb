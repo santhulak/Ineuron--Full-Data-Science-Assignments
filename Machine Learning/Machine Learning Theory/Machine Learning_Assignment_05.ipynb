{
 "cells": [
  {
   "cell_type": "markdown",
   "id": "7a15a1cb",
   "metadata": {},
   "source": [
    "1. What are the key tasks that machine learning entails? What does data pre-processing imply?\n"
   ]
  },
  {
   "cell_type": "markdown",
   "id": "bf873833",
   "metadata": {},
   "source": [
    "A machine learning task is the type of prediction or inference being made, based on the problem or question that is being asked, and the available data.\n",
    "\n",
    "Data preprocessing is a process of preparing the raw data and making it suitable for a machine learning model. Data preprocessing is required tasks for cleaning the data and making it suitable for a machine learning model which also increases the accuracy and efficiency of a machine learning model."
   ]
  },
  {
   "cell_type": "markdown",
   "id": "ee7225fe",
   "metadata": {},
   "source": [
    "2. Describe quantitative and qualitative data in depth. Make a distinction between the two."
   ]
  },
  {
   "cell_type": "markdown",
   "id": "a8e3a7e5",
   "metadata": {},
   "source": [
    "## Quantitative data\n",
    "\n",
    "Quantitative data is numbers-based, countable, or measurable. Quantitative data is analyzed using statistical analysis. \n",
    "\n",
    "\n",
    "- Discrete Data Type: – The Numeric Data Which Have Discrete Values Or Whole Numbers. This Type Of Variable Value If Expressed In Decimal Format Will Have No Proper Meaning. Their Values Can Be Counted. E.G.: – No. Of Students In A Class\n",
    "\n",
    "- Continuous Data Type: – The Numerical Measures Which Can Take The Value Within A Certain Range. This Type Of Variable Value If Expressed In Decimal Format Has True Meaning. Their Values Can Not Be Counted But Measured. The Value Can Be Infinite E.G.: Area, Distance\n",
    "\n",
    "## Qualitative data\n",
    "\n",
    "Qualitative data is interpretation-based, descriptive, and relating to language.Qualitative data is analyzed by grouping the data into categories and themes.\n",
    "\n",
    "- Structured Data: This Type Of Data Is Either Number Or Words. This Can Take Numerical Values But Mathematical Operations Cannot Be Performed On It. This Type Of Data Is Expressed In Tabular Format. E.G.) Sunny=1, Cloudy=2, Windy=3, Good Or Bad\n",
    "\n",
    "- Unstructured Data: This Type Of Data Does Not Have The Proper Format And Therefore Known As Unstructured Data.This Comprises Textual Data, Sounds, Images, Videos"
   ]
  },
  {
   "cell_type": "markdown",
   "id": "39629771",
   "metadata": {},
   "source": [
    "3. Create a basic data collection that includes some sample records. Have at least one attribute from each of the machine learning data types."
   ]
  },
  {
   "cell_type": "markdown",
   "id": "8b195ebd",
   "metadata": {},
   "source": [
    "Collect data about the type of articles are most popular on your website among visitors who are between the ages of 18 to 50. You might also choose to gather information about the average age of all of the customers who bought a product from your company within the last month.\n",
    "\n"
   ]
  },
  {
   "cell_type": "markdown",
   "id": "e99fe1be",
   "metadata": {},
   "source": [
    "4. What are the various causes of machine learning data issues? What are the ramifications?\n",
    "\n",
    "\n"
   ]
  },
  {
   "cell_type": "markdown",
   "id": "277cda04",
   "metadata": {},
   "source": [
    "Data quality is fundamental for the algorithms to work as proposed. Incomplete data, unclean data, and noisy data are the quintessential foes of ideal ML. \n",
    "\n",
    "Five practical issues in machine learning and the business implications Data quality.\n",
    "- Machine learning systems rely on data.\n",
    "- The complexity and quality trade-off.\n",
    "- Sampling bias in data.\n",
    "- Changing expectations and concept drift.\n",
    "- Monitoring and maintenance."
   ]
  },
  {
   "cell_type": "markdown",
   "id": "0e894d17",
   "metadata": {},
   "source": [
    "5. Demonstrate various approaches to categorical data exploration with appropriate examples."
   ]
  },
  {
   "cell_type": "markdown",
   "id": "127e3ca1",
   "metadata": {},
   "source": [
    "Unique value count:\n",
    "\n",
    "One of the first things which can be useful during data exploration is to see how many unique values are there in categorical columns.\n",
    "\n",
    "Cramer-V correlation:\n",
    "\n",
    "Cramer-V correlation between all Categorical columns is a very useful data exploration technique to find the correlation between categorical variables. And the result of Cramer-V can also be visualised using heat-map.\n",
    "\n",
    "Correlation between two specific categorical columns:\n",
    "\n",
    "Once you have checked correlation between categorical columns using Cramer-V correlation matrix, you can further explore correlation between any two categorical columns. This can be done using a bubble plot between the two columns with size of the bubble indicating the number of occurrences\n",
    "\n"
   ]
  },
  {
   "cell_type": "markdown",
   "id": "04518824",
   "metadata": {},
   "source": [
    "6. How would the learning activity be affected if certain variables have missing values? Having said that, what can be done about it?\n",
    "\n"
   ]
  },
  {
   "cell_type": "markdown",
   "id": "8078f42b",
   "metadata": {},
   "source": [
    "Even in a Well-Designed & Controlled study, Missing data occurs in almost all research. Missing data can reduce the statistical power of a study and can produce biased estimates, leading to invalid conclusions.\n",
    "\n",
    "- Real-world data collection has its own set of problems, It is often very messy which includes missing data, presence of outliers, unstructured manner, etc.\n",
    "- Before looking for any insights from the data, we have to first perform preprocessing tasks which then only allow us to use that data for further observation and train our machine learning model.\n",
    "- Missing value in a dataset is a very common phenomenon in the reality.\n",
    "- Missing value correction is required to reduce bias and to produce powerful suitable models.\n",
    "- Most of the algorithms can’t handle missing data, thus you need to act in some way to simply not let your code crash. So, let’s begin with the methods to solve the problem.\n",
    "- Methods for dealing with missing values. The popular methods which are used by the machine learning community to handle the missing value for categorical variables in the dataset are as follows: Delete the observations: If there is a large number of observations in the dataset, where all the classes to be predicted are sufficiently represented in the training data, then try deleting the missing value observations, which would not bring significant change in your feed to your model."
   ]
  },
  {
   "cell_type": "markdown",
   "id": "d5500fdb",
   "metadata": {},
   "source": [
    "7. Describe the various methods for dealing with missing data values in depth.\n",
    "\n"
   ]
  },
  {
   "cell_type": "markdown",
   "id": "b2304012",
   "metadata": {},
   "source": [
    "Following are the various methods for dealing with missing data values\n",
    "- Deleting Rows with missing values\n",
    "- Impute missing values for continuous variable\n",
    "- Impute missing values for categorical variable\n",
    "- Other Imputation Methods\n",
    "- Using Algorithms that support missing values\n",
    "- Prediction of missing values\n",
    "- Imputation using Deep Learning Library "
   ]
  },
  {
   "cell_type": "markdown",
   "id": "808c1a39",
   "metadata": {},
   "source": [
    "8. What are the various data pre-processing techniques? Explain dimensionality reduction and function selection in a few words.\n",
    "\n"
   ]
  },
  {
   "cell_type": "markdown",
   "id": "4d16ab7a",
   "metadata": {},
   "source": [
    "Data Preprocessing Techniques are:\n",
    "\n",
    "- Data Cleaning.\n",
    "- Dimensionality Reduction.\n",
    "- Feature Engineering.\n",
    "- Sampling Data.\n",
    "- Data Transformation.\n",
    "- Imbalanced Data.\n",
    "\n",
    "Dimension reduction is the process of reducing the number of random variables under consideration, and can be divided into feature selection and feature extraction.\n",
    "\n",
    "Feature selection yields a subset of features from the original set of features, which are best representatives of the data."
   ]
  },
  {
   "cell_type": "markdown",
   "id": "3ed3e64e",
   "metadata": {},
   "source": [
    "9.\n",
    " i. What is the IQR? What criteria are used to assess it?\n",
    "\n",
    "\n",
    "The interquartile range is calculated in much the same way as the range. The interquartile range shows how the data is spread about the median.\n",
    "\n",
    "IQR = Q3 – Q1. \n",
    "\n",
    "Q1 is the first quartile of the data, i.e., to say 25% of the data lies between minimum and Q1.\n",
    "\n",
    "Q3 is the third quartile of the data, i.e., to say 75% of the data lies between minimum and Q3.\n",
    "\n",
    "The difference between Q3 and Q1 is called the Inter-Quartile Range or IQR."
   ]
  },
  {
   "cell_type": "markdown",
   "id": "c51cf73f",
   "metadata": {},
   "source": [
    "ii. Describe the various components of a box plot in detail? When will the lower whisker    surpass the upper whisker in length? How can box plots be used to identify outliers?\n",
    "\n",
    "The five-number summary in the box plot is minimum, maximum, median, first quartile, and third quartile\n",
    "\n",
    "- minimum is the minimum value in the dataset\n",
    "- maximum is the maximum value in the dataset.\n",
    "- The median is the median (or centre point), also called second quartile, of the data (resulting from the fact that the data is ordered).\n",
    "- Q1 is the first quartile of the data, i.e., to say 25% of the data lies between minimum and Q1.\n",
    "- Q3 is the third quartile of the data, i.e., to say 75%\n",
    "\n",
    "When the data is left skewed, lower whisker will be longer than upper whisker.\n",
    "\n",
    "IQR can be used to calculate the lower and upper bounds of the data, which helps identify outliers\n",
    "\n",
    "To detect the outliers this method is used, we define a new range, let’s call it decision range, and any data point lying outside this range is considered as outlier. The range is as given below:\n",
    "\n",
    "Lower Bound: (Q1 - 1.5 * IQR)\n",
    "\n",
    "Upper Bound: (Q3 + 1.5 * IQR)\n",
    "\n",
    "The difference between Q3 and Q1 is called the Inter-Quartile Range or IQR."
   ]
  },
  {
   "cell_type": "markdown",
   "id": "e967271e",
   "metadata": {},
   "source": [
    "10. Make brief notes on any two of the following:\n",
    "\n",
    "1. Data collected at regular intervals\n",
    "\n",
    "Interval data also called as integer, is defined as a data type which is measured along a scale, in which each is placed at equal distance from one another.\n",
    "\n",
    "              \n",
    "\n"
   ]
  },
  {
   "cell_type": "markdown",
   "id": "a8a8c1d3",
   "metadata": {},
   "source": [
    " 2. The gap between the quartiles\n",
    "\n",
    "- The difference between Q3 and Q1 is called the Inter-Quartile Range or IQR.\n",
    "- Q1 is the first quartile of the data, i.e., to say 25% of the data lies between minimum and Q1.\n",
    "- Q3 is the third quartile of the data, i.e., to say 75% of the data lies between minimum and Q3.\n",
    "\n",
    "             "
   ]
  },
  {
   "cell_type": "markdown",
   "id": "99ececa5",
   "metadata": {},
   "source": [
    "  3. Use a cross-tab\n",
    "    \n",
    "Cross tabulation (crosstab) is a useful analysis tool commonly used to compare the results for one or more variables with the results of another variable. It is used with data on a nominal scale, where variables are named or labeled with no specific order."
   ]
  },
  {
   "cell_type": "markdown",
   "id": "b88bb5e0",
   "metadata": {},
   "source": [
    "11. Make a comparison between:\n",
    "\n",
    "1. Data with nominal and ordinal values\n",
    "\n",
    "Nominal data is classified without a natural order or rank, whereas ordinal data has a predetermined or natural order. \n",
    "\n",
    "Examples of nominal data include the country, gender, race, hair color, etc. of a group of people, while that of ordinal data includes having a position in class as “First” or “Second”."
   ]
  },
  {
   "cell_type": "markdown",
   "id": "7b5e531f",
   "metadata": {},
   "source": [
    "2. Histogram and box plot\n",
    "\n",
    "Histograms and box plots are graphical representations for the frequency of numeric data values. Although histograms are better in determining the underlying distribution of the data, box plots allow you to compare multiple data sets better than histograms as they are less detailed and take up less space."
   ]
  },
  {
   "cell_type": "markdown",
   "id": "37a2fb62",
   "metadata": {},
   "source": [
    "3. The average and median\n",
    "\n",
    "The average is calculated by adding up all of the individual values and dividing this total by the number of observations. \n",
    "\n",
    "The median is calculated by taking the “middle” value, the value for which half of the observations are larger and half are smaller."
   ]
  },
  {
   "cell_type": "code",
   "execution_count": null,
   "id": "a6e261a0",
   "metadata": {},
   "outputs": [],
   "source": []
  }
 ],
 "metadata": {
  "kernelspec": {
   "display_name": "Python 3 (ipykernel)",
   "language": "python",
   "name": "python3"
  },
  "language_info": {
   "codemirror_mode": {
    "name": "ipython",
    "version": 3
   },
   "file_extension": ".py",
   "mimetype": "text/x-python",
   "name": "python",
   "nbconvert_exporter": "python",
   "pygments_lexer": "ipython3",
   "version": "3.10.8"
  }
 },
 "nbformat": 4,
 "nbformat_minor": 5
}

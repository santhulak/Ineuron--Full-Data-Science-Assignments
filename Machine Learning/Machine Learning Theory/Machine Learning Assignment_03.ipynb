{
 "cells": [
  {
   "cell_type": "markdown",
   "id": "be5873ba",
   "metadata": {},
   "source": [
    "1.Explain the term machine learning, and how does it work? Explain two machine learning applications in the business world. What are some of the ethical concerns that machine learning applications could raise?\n"
   ]
  },
  {
   "cell_type": "markdown",
   "id": "234c5fa0",
   "metadata": {},
   "source": [
    "Machine Learning is an AI technique that teaches computers to learn from experience. Machine learning algorithms use computational methods to “learn” information directly from data without relying on a predetermined equation as a model.\n",
    "\n",
    "Machine learning applications in the business world \n",
    " 1. Customer Segmentation\n",
    "Rather than relying on a marketer’s intuition to separate customers into groups for campaigns, data scientists can use clustering and classification algorithms to group customers into personas based on specific variations among them.\n",
    "\n",
    " 2. Image Classification\n",
    "Image classification uses machine learning algorithms to assign a label from a fixed set of categories to any image that’s inputted. \n",
    "\n",
    "The legal and ethical issues that confront society due to Artificial Intelligence (AI) include privacy and surveillance, bias or discrimination, and potentially the philosophical challenge is the role of human judgment"
   ]
  },
  {
   "cell_type": "markdown",
   "id": "50699412",
   "metadata": {},
   "source": [
    "2. Describe the process of human learning:\n",
    "  \n",
    "  i. Under the supervision of experts\n",
    "           \n",
    "  Human-guided machine learning is a process whereby subject matter experts accelerate the learning process by teaching the technology in real-time. \n",
    "\n",
    " ii. With the assistance of experts in an indirect manner\n",
    " \n",
    " Indirect guidance is provided through learners actively observing, listening, and engaging with social practices and norms, which serve to furnish models and goals for performance and individuals' learning.\n",
    "\n",
    " iii. Self-education\n",
    "\n",
    "Self-directed learning is a process in which individuals take the initiative, with or without the help of others, in diagnosing their learning needs, formulating learning goals, identifying human and material resources for learning, choosing and implementing appropriate learning strategies, and evaluating learning outcomes"
   ]
  },
  {
   "cell_type": "markdown",
   "id": "e57b7297",
   "metadata": {},
   "source": [
    "3. Provide a few examples of various types of machine learning."
   ]
  },
  {
   "cell_type": "markdown",
   "id": "8cc25941",
   "metadata": {},
   "source": [
    "The three machine learning types are supervised, unsupervised, and reinforcement learning.\n",
    "\n",
    "One practical example of supervised learning problems is predicting house prices.  Spam detection is another example of a supervised learning model. \n",
    "\n",
    "Unsupervised Learning areas of application include market basket analysis, semantic clustering, recommender systems.\n",
    "\n",
    "Predictive text, text summarization, question answering, and machine translation are all examples of natural language processing (NLP) that uses reinforcement learning."
   ]
  },
  {
   "cell_type": "markdown",
   "id": "180d626f",
   "metadata": {},
   "source": [
    "\n",
    "4. Examine the various forms of machine learning."
   ]
  },
  {
   "cell_type": "markdown",
   "id": "d529a342",
   "metadata": {},
   "source": [
    "The four different types of machine learning are:\n",
    "\n",
    "- Supervised Learning.\n",
    "- Unsupervised Learning.\n",
    "- Semi-Supervised Learning.\n",
    "- Reinforced Learning."
   ]
  },
  {
   "cell_type": "markdown",
   "id": "da41f187",
   "metadata": {},
   "source": [
    "5. Can you explain what a well-posed learning problem is? Explain the main characteristics that must be present to identify a learning problem properly."
   ]
  },
  {
   "cell_type": "markdown",
   "id": "019e59ad",
   "metadata": {},
   "source": [
    "A machine learning problem is well-posed if a solution to it exists, if that solution is unique, and if that solution depends on the databut it is not sensitive to changes in the data.\n",
    "\n",
    "Learn to solve problems systematically. Identify problems effectively, research and collect information to help with decision making and problem solving."
   ]
  },
  {
   "cell_type": "markdown",
   "id": "25dddd6c",
   "metadata": {},
   "source": [
    "6. Is machine learning capable of solving all problems? Give a detailed explanation of your answer."
   ]
  },
  {
   "cell_type": "markdown",
   "id": "322883bf",
   "metadata": {},
   "source": [
    "Machine learning is now seen as a silver bullet for solving all problems, but sometimes it is not the answer. \n",
    "\n",
    "The Challenges That It Still Faces :\n",
    "1. Reasoning Power · 2. Contextual Limitation · 3. Scalability · 4.Regulatory Restriction For Data In ML \n",
    "\n",
    "One area where ML has not mastered successfully is reasoning power, a distinctly human trait. Algorithms available today are mainly oriented towards specific use-cases and are narrowed down when it comes to applicability. Although we see ML implementations being deployed on a significant basis, it all depends on data as well as its scalability. ML usually need considerable amounts (in fact, massive) of data in stages such as training, cross-validation etc. Sometimes, data includes private as well as general information. This is where it gets complicated."
   ]
  },
  {
   "cell_type": "markdown",
   "id": "b63cea7c",
   "metadata": {},
   "source": [
    "7. What are the various methods and technologies for solving machine learning problems? Any two of them should be defined in detail."
   ]
  },
  {
   "cell_type": "markdown",
   "id": "944cb3c3",
   "metadata": {},
   "source": [
    "Machine learning uses two types of techniques: supervised learning, which trains a model on known input and output data so that it can predict future outputs, and unsupervised learning, which finds hidden patterns or intrinsic structures in input data."
   ]
  },
  {
   "cell_type": "markdown",
   "id": "26f0e4d3",
   "metadata": {},
   "source": [
    "8. Can you explain the various forms of supervised learning? Explain each one with an example application."
   ]
  },
  {
   "cell_type": "markdown",
   "id": "f3bf65c6",
   "metadata": {},
   "source": [
    "Different Types of Supervised Learning\n",
    "1. Regression\n",
    "   In regression, a single output value is produced using training data. Linear regressions can be used in business to evaluate trends and make estimates or forecasts.\n",
    "   \n",
    "2. Classification\n",
    "It involves grouping the data into classes. When the supervised learning algorithm labels input data into two distinct classes, it is called binary classification. Multiple classifications means categorizing data into more than two classes.  Classification Algorithms can be used to solve classification problems such as Identification of spam emails, Speech Recognition, Identification of cancer cells, etc.\n",
    "\n",
    "3. Naive Bayesian Model\n",
    "The Bayesian model of classification is used for large finite datasets. It is a method of assigning class labels using a direct acyclic graph. Some popular examples of Naïve Bayes Algorithm are spam filtration, Sentimental analysis, and classifying articles.\n",
    "\n",
    "4. Decision Trees\n",
    "\n",
    "A decision tree is a flowchart-like model that contains conditional control statements, comprising decisions and their probable consequences. The output relates to the labelling of unforeseen data. \n",
    "\n",
    "5. Random Forest Model\n",
    "The random forest model is an ensemble method. It operates by constructing a multitude of decision trees and outputs a classification of the individual trees. for example, classifying whether an email is “spam” or “not spam”\n",
    "\n",
    "6. Neural Networks\n",
    "This algorithm is designed to cluster raw input, recognize patterns, or interpret sensory data. A neural network could be trained to recognize handwritten digits.\n",
    "\n",
    "7. Support Vector Machines\n",
    "Support Vector Machine (SVM) is a supervised learning algorithm used for classification or regression. SVMs are used in applications like handwriting recognition, intrusion detection, face detection, email classification, gene classification, and in web pages\n",
    "\n",
    "Apart from these six supervised learning models, there is AdaBoost. Also known as Adaptive Boosting. This is a meta-algorithm that one can apply to the machine learning algorithm in order to enhance performance. AdaBoost can be used to solve a variety of real-world problems, such as predicting customer churn and classifying the types of topics customers are talking/calling about."
   ]
  },
  {
   "cell_type": "markdown",
   "id": "8b0606d3",
   "metadata": {},
   "source": [
    "9. What is the difference between supervised and unsupervised learning? With a sample application in each region, explain the differences."
   ]
  },
  {
   "cell_type": "markdown",
   "id": "22b748f1",
   "metadata": {},
   "source": [
    "Supervised learning: \n",
    "\n",
    "Supervised learning algorithms are trained using labeled data. In supervised learning, input data is provided to the model along with the output. The goal of supervised learning is to train the model so that it can predict the output when it is given new data. Supervised learning can be categorized in Classification and Regression problems. It includes various algorithms such as Linear Regression, Logistic Regression, Support Vector Machine, Decision tree, Bayesian Logic, Random Forest etc. \n",
    "\n",
    "Spam detection is an example of a supervised learning model. Using supervised classification algorithms, organizations can train databases to recognize patterns or anomalies in new data to organize spam and non-spam-related correspondences effectively.\n",
    "\n",
    "Unsupervised learning:\n",
    "\n",
    "Unsupervised learning algorithms are trained using unlabeled data. In unsupervised learning, only input data is provided to the model. The goal of unsupervised learning is to find the hidden patterns and useful insights from the unknown dataset. Unsupervised Learning can be classified in Clustering and Associations problems. It includes various algorithms such as Clustering, KNN, Anomaly detection and Apriori algorithm.\n",
    "\n",
    "Example:Semantically similar words share a similar context. People post their queries on websites in their own ways. Semantic clustering groups all these responses with the same meaning in a cluster to ensure that the customer finds the information they want quickly and easily. It plays an important role in information retrieval, good browsing experience, and comprehension."
   ]
  },
  {
   "cell_type": "markdown",
   "id": "b350986b",
   "metadata": {},
   "source": [
    "10. Describe the machine learning process in depth.\n",
    "\n",
    "a. Make brief notes on any two of the following:    \n",
    "\n",
    ". MATLAB is one of the most widely used programming languages.\n",
    " \n",
    " MATLAB is a programming platform designed specifically for engineers and scientists to analyze and design systems and products that would transform our world. "
   ]
  },
  {
   "cell_type": "markdown",
   "id": "27485fb1",
   "metadata": {},
   "source": [
    "\n",
    " \n",
    " ii. Deep learning applications in healthcare\n",
    " \n",
    " In simple terms, deep learning is a sort of machine learning that solves issues that machine learning alone could not handle. Deep learning uses neural networks to boost computing work and produce correct results. Deep learning aids in the discovery and development of innovative medicines in healthcare. The technology examines the patient’s medical history and recommends the most appropriate treatment.  Heart disease, cancer, and brain tumors are diagnosed using medical imaging procedures such as MRI scans, CT scans, and ECG. As a result, deep learning assists doctors in better analyzing diseases and providing the best treatment to patients. By assessing patients’ medical histories, symptoms, and tests, deep learning systems enable healthcare companies to provide individualized patient care. \n",
    " \n",
    "\n",
    "iii. Study of the market basket\n",
    "\n",
    "Market basket analysis is a data mining technique used by retailers to increase sales by better understanding customer purchasing patterns. It involves analyzing large data sets, such as purchase history, to reveal product groupings, as well as products that are likely to be purchased together.\n",
    "\n",
    "iv. Linear regression (simple)\n",
    "\n",
    "Simple linear regression is used to model the relationship between two continuous variables. Often, the objective is to predict the value of an output variable (or response) based on the value of an input (or predictor) variable."
   ]
  },
  {
   "cell_type": "markdown",
   "id": "3b69c2f0",
   "metadata": {},
   "source": [
    "11. Make a comparison between:-         "
   ]
  },
  {
   "cell_type": "markdown",
   "id": "61bde611",
   "metadata": {},
   "source": [
    "1. Generalization and abstraction\n",
    "\n",
    "Abstraction aims at simplifying the description of an entity while generalization looks for common properties among these abstractions.\n",
    "\n",
    "In machine learning,\n",
    "\n",
    "Abstraction: It involves the translation of data into broader representations. \n",
    "\n",
    "Generalization: It uses abstracted data to form a basis for action.\n",
    "\n",
    "2. Learning that is guided and unsupervised\n",
    "\n",
    "Guided / Supervised learning is the method that trains machines to use data that is well classified and labeled. Whereas Unsupervised learning, on the other hand, is the method that trains machines to use data that is neither classified nor labeled.\n",
    "\n",
    "3. Regression and classification\n",
    "\n",
    "Regression helps predict a continuous quantity, Classification predicts discrete class labels. "
   ]
  },
  {
   "cell_type": "code",
   "execution_count": null,
   "id": "7b25daf0",
   "metadata": {},
   "outputs": [],
   "source": []
  }
 ],
 "metadata": {
  "kernelspec": {
   "display_name": "Python 3 (ipykernel)",
   "language": "python",
   "name": "python3"
  },
  "language_info": {
   "codemirror_mode": {
    "name": "ipython",
    "version": 3
   },
   "file_extension": ".py",
   "mimetype": "text/x-python",
   "name": "python",
   "nbconvert_exporter": "python",
   "pygments_lexer": "ipython3",
   "version": "3.10.8"
  }
 },
 "nbformat": 4,
 "nbformat_minor": 5
}

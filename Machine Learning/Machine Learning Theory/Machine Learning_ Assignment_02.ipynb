{
 "cells": [
  {
   "cell_type": "markdown",
   "id": "749121dc",
   "metadata": {},
   "source": [
    "1. What is the concept of human learning? Please give two examples."
   ]
  },
  {
   "cell_type": "markdown",
   "id": "b98e1465",
   "metadata": {},
   "source": [
    "Human Learning is the acquisition of habits, knowledge and attitudes. It involves new ways of doing things and it operates in an individual's attempt to overcome obstacles or to adjust to new situations.Few Examples are Driving Car, Singing, Dancing, Playing music.\n"
   ]
  },
  {
   "cell_type": "markdown",
   "id": "07130024",
   "metadata": {},
   "source": [
    "2. What different forms of human learning are there? Are there any machine learning equivalents?"
   ]
  },
  {
   "cell_type": "markdown",
   "id": "1488777a",
   "metadata": {},
   "source": [
    "\n",
    "- Learning through association - Classical Conditioning.\n",
    "- Learning through consequences – Operant Conditioning.\n",
    "- Learning through observation – Modeling/Observational Learning.\n",
    "\n",
    "Machine Learning Theory Equivalents are \n",
    "\n",
    "- Supervised Learning\n",
    "- UnSupervised Learning\n",
    "- Reinforcement Learning"
   ]
  },
  {
   "cell_type": "markdown",
   "id": "9476fdb0",
   "metadata": {},
   "source": [
    "3. What is machine learning, and how does it work? What are the key responsibilities of machine learning?"
   ]
  },
  {
   "cell_type": "markdown",
   "id": "4628558c",
   "metadata": {},
   "source": [
    "Machine learning is a form of artificial intelligence (AI) that teaches computers to think in a similar way to how humans do by learning and improving upon past experiences. It works by exploring data and identifying patterns, and involves minimal human intervention. \n",
    "\n",
    "Key Responsibilities of machine learning are To research, To create , construct methods and plans for machine learning by bmploying test findings to do statistical analysis and improve models.\n",
    "\n"
   ]
  },
  {
   "cell_type": "markdown",
   "id": "77bb1695",
   "metadata": {},
   "source": [
    "4. Define the terms \"penalty\" and \"reward\" in the context of reinforcement learning."
   ]
  },
  {
   "cell_type": "markdown",
   "id": "728ea6d3",
   "metadata": {},
   "source": [
    "Reinforcement learning uses a reward and penalty method to teach an AI system. If it makes the right move, it is rewarded. If it makes a mistake, it receives a penalty. "
   ]
  },
  {
   "cell_type": "markdown",
   "id": "048cc020",
   "metadata": {},
   "source": [
    "5. Explain the term \"learning as a search\"?"
   ]
  },
  {
   "cell_type": "markdown",
   "id": "809cf3e7",
   "metadata": {},
   "source": [
    "Learning as a search is to find the hypothesis that best fits the training examples."
   ]
  },
  {
   "cell_type": "markdown",
   "id": "6acff99d",
   "metadata": {},
   "source": [
    "6. What are the various goals of machine learning? What is the relationship between these and human learning?"
   ]
  },
  {
   "cell_type": "markdown",
   "id": "d94b7893",
   "metadata": {},
   "source": [
    "The goal of machine learning is to train a model on labelled data in order to predict the value of some quantity on the basis of a new data item for which the target value or classification is unknown.\n",
    "\n",
    "The Goal of machine learning, closely coupled with the goal of AI, is to achieve a through understanding about the nature of learning process (both human learning and other forms of learning), about the computational aspects of learning behaviors, and to implant the learning capability in computer systems.\n",
    "\n",
    "Humans have the ability to learn, however with the progress in artificial intelligence, machine learning has become a resource which can augment or even replace human learning. Learning does not happen all at once, but it builds upon and is shaped by previous knowledge."
   ]
  },
  {
   "cell_type": "markdown",
   "id": "f86b3d43",
   "metadata": {},
   "source": [
    "7. Illustrate the various elements of machine learning using a real-life illustration."
   ]
  },
  {
   "cell_type": "markdown",
   "id": "f84bb48c",
   "metadata": {},
   "source": [
    "1. Data Set - Machines need a lot of data to function, to learn from, and ultimately make decisions based on it.\n",
    "2. Algorithms - consider an algorithm as a mathematical or logical program that turns a data set into a model.\n",
    "3. Models - An ML model is trained to recognize certain types of patterns by training it over a set of data using relevant algorithms.\n",
    "4. Feature Extraction - Regularize the number of features in data sets by using feature extraction techniques. \n",
    "5. Training - Training includes approaches that allow ML models to identify patterns, and make decisions."
   ]
  },
  {
   "cell_type": "markdown",
   "id": "f73e9d6c",
   "metadata": {},
   "source": [
    "8. Provide an example of the abstraction method."
   ]
  },
  {
   "cell_type": "markdown",
   "id": "ad3d3753",
   "metadata": {},
   "source": [
    "Abstraction is a simplification of the representation of a problem which enables that problem to be solved more efficiently.\n",
    "\n",
    "Example of the abstraction method is classify patterns by discrete labels."
   ]
  },
  {
   "cell_type": "markdown",
   "id": "87f15be5",
   "metadata": {},
   "source": [
    "9. What is the concept of generalization? What function does it play in the machine learning process?"
   ]
  },
  {
   "cell_type": "markdown",
   "id": "730af08a",
   "metadata": {},
   "source": [
    "Generalization allows humans and animals to recognize the similarities in knowledge acquired in one circumstance, allowing for transfer of knowledge onto new situations. \n",
    "\n",
    "In machine learning, generalization is a definition to demonstrate how well is a trained model to classify or forecast unseen data. \n",
    "\n",
    "Example: classify Dogs and Cats"
   ]
  },
  {
   "cell_type": "markdown",
   "id": "7a0da868",
   "metadata": {},
   "source": [
    "10. What is classification, exactly? What are the main distinctions between classification and regression?\n",
    "\n"
   ]
  },
  {
   "cell_type": "markdown",
   "id": "5c00ee19",
   "metadata": {},
   "source": [
    "In machine learning, classification is a predictive modeling problem where the class label is anticipated for a specific example of input data.\n",
    "\n",
    "- Cegression predict a continuous quantity\n",
    "- Classification predicts discrete class labels"
   ]
  },
  {
   "cell_type": "markdown",
   "id": "0031f7f5",
   "metadata": {},
   "source": [
    "11. What is regression, and how does it work? Give an example of a real-world problem that was solved using regression."
   ]
  },
  {
   "cell_type": "markdown",
   "id": "1cb72354",
   "metadata": {},
   "source": [
    "Regression is a technique for predictive modelling in machine learning, in which an algorithm is used to predict continuous outcomes.\n",
    "\n",
    "Regression real world problem -  predict the relationship between reckless driving and the total number of oad accidents caused by a driver."
   ]
  },
  {
   "cell_type": "markdown",
   "id": "02dd52a1",
   "metadata": {},
   "source": [
    "12. Describe the clustering mechanism in detail."
   ]
  },
  {
   "cell_type": "markdown",
   "id": "c521eabb",
   "metadata": {},
   "source": [
    "Clustering is by finding some similar patterns in the unlabelled dataset and divides them as per the presence and absence of those similar patterns."
   ]
  },
  {
   "cell_type": "markdown",
   "id": "d14344a4",
   "metadata": {},
   "source": [
    "13. Make brief observations on two of the following topics:"
   ]
  },
  {
   "cell_type": "markdown",
   "id": "808b4f47",
   "metadata": {},
   "source": [
    "i. Machine learning algorithms are used\n",
    "\n",
    "Machine learning algorithms use historical data as input to predict new output values.\n",
    "\n",
    "\n",
    "ii. Studying under supervision\n",
    "\n",
    "It is the act of watching a person or activity and making certain that everything is done correctly. In Supervised Learning, the machine learns under supervision. It contains a model that is able to predict with the help of a labeled dataset.\n",
    "\n",
    "iii. Studying without supervision\n",
    "\n",
    "Unsupervised learning does not need any supervision. Instead, it finds patterns from the data by its own.\n",
    "\n",
    "iv. Reinforcement learning is a form of learning based on positive reinforcement.\n",
    "\n",
    "Reinforcement Learning is a feedback-based Machine learning technique in which an agent learns to behave in an environment by performing the actions and seeing the results of actions. For each good action, the agent gets positive feedback. The primary goal of an agent in reinforcement learning is to improve the performance by getting the maximum positive rewards."
   ]
  }
 ],
 "metadata": {
  "kernelspec": {
   "display_name": "Python 3 (ipykernel)",
   "language": "python",
   "name": "python3"
  },
  "language_info": {
   "codemirror_mode": {
    "name": "ipython",
    "version": 3
   },
   "file_extension": ".py",
   "mimetype": "text/x-python",
   "name": "python",
   "nbconvert_exporter": "python",
   "pygments_lexer": "ipython3",
   "version": "3.10.8"
  }
 },
 "nbformat": 4,
 "nbformat_minor": 5
}
